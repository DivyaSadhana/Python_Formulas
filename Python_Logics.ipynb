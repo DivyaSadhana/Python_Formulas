{
  "nbformat": 4,
  "nbformat_minor": 0,
  "metadata": {
    "colab": {
      "provenance": [],
      "authorship_tag": "ABX9TyPxaWxguzZycAgy1tfAPg8R",
      "include_colab_link": true
    },
    "kernelspec": {
      "name": "python3",
      "display_name": "Python 3"
    },
    "language_info": {
      "name": "python"
    }
  },
  "cells": [
    {
      "cell_type": "markdown",
      "metadata": {
        "id": "view-in-github",
        "colab_type": "text"
      },
      "source": [
        "<a href=\"https://colab.research.google.com/github/DivyaSadhana/Python_Formulas/blob/main/Python_Logics.ipynb\" target=\"_parent\"><img src=\"https://colab.research.google.com/assets/colab-badge.svg\" alt=\"Open In Colab\"/></a>"
      ]
    },
    {
      "cell_type": "markdown",
      "source": [
        "Addition, Subtraction, Multilication"
      ],
      "metadata": {
        "id": "EOFkEDbBaCc1"
      }
    },
    {
      "cell_type": "code",
      "source": [
        "Addition = (3+2) + (6+8)\n",
        "Subtraction = (14-6) - (4-3)\n",
        "Multiplication = (15*3) * (6+2) * (6-3)\n",
        "print(Addition)\n",
        "print(Subtraction)\n",
        "print(Multiplication)\n"
      ],
      "metadata": {
        "colab": {
          "base_uri": "https://localhost:8080/"
        },
        "id": "E3ty5_AFUvmE",
        "outputId": "e6e2f22b-ef49-46e0-b0a6-a0c24c246aa7"
      },
      "execution_count": 38,
      "outputs": [
        {
          "output_type": "stream",
          "name": "stdout",
          "text": [
            "19\n",
            "7\n",
            "1080\n"
          ]
        }
      ]
    },
    {
      "cell_type": "markdown",
      "source": [
        "Division, Percentage"
      ],
      "metadata": {
        "id": "8mzCkUlLaInJ"
      }
    },
    {
      "cell_type": "code",
      "source": [
        "Division = 1042/60\n",
        "Division_2= Division/30\n",
        "Percentage = 1042%60\n",
        "Percentage_2 = Percentage%20\n",
        "print(Division)\n",
        "print(Division_2)\n",
        "print(Percentage)\n",
        "print(Percentage_2)"
      ],
      "metadata": {
        "colab": {
          "base_uri": "https://localhost:8080/"
        },
        "id": "KRwqqKHDVP5a",
        "outputId": "54abebb5-f170-4609-a339-767916b3f804"
      },
      "execution_count": 43,
      "outputs": [
        {
          "output_type": "stream",
          "name": "stdout",
          "text": [
            "17.366666666666667\n",
            "0.5788888888888889\n",
            "22\n",
            "2\n"
          ]
        }
      ]
    },
    {
      "cell_type": "markdown",
      "source": [
        "Combine Numericals of 2 different columns"
      ],
      "metadata": {
        "id": "eWQRyVChaQ8y"
      }
    },
    {
      "cell_type": "code",
      "source": [
        "Integer = 6\n",
        "Real_Number = 0.7\n",
        "Integer+Real_Number"
      ],
      "metadata": {
        "colab": {
          "base_uri": "https://localhost:8080/"
        },
        "id": "3OnGun4XXBDo",
        "outputId": "2af11773-79b1-4856-cc7b-6f91ee27d7b6"
      },
      "execution_count": 16,
      "outputs": [
        {
          "output_type": "execute_result",
          "data": {
            "text/plain": [
              "6.7"
            ]
          },
          "metadata": {},
          "execution_count": 16
        }
      ]
    },
    {
      "cell_type": "markdown",
      "source": [
        "Combine 'Text' in 2 different columns to create single line"
      ],
      "metadata": {
        "id": "0e2BncbYaajc"
      }
    },
    {
      "cell_type": "code",
      "source": [
        "Assumption = \" but Earth is flat.\"\n",
        "Fact = \"Sun rises in the east\"\n",
        "Fact + Assumption"
      ],
      "metadata": {
        "colab": {
          "base_uri": "https://localhost:8080/",
          "height": 35
        },
        "id": "waBx-KVYWYma",
        "outputId": "b8c2ba47-6e49-452d-974b-7163d253a742"
      },
      "execution_count": 15,
      "outputs": [
        {
          "output_type": "execute_result",
          "data": {
            "text/plain": [
              "'Sun rises in the east but Earth is flat.'"
            ],
            "application/vnd.google.colaboratory.intrinsic+json": {
              "type": "string"
            }
          },
          "metadata": {},
          "execution_count": 15
        }
      ]
    },
    {
      "cell_type": "markdown",
      "source": [
        "Replace/Update single word in a given sentence."
      ],
      "metadata": {
        "id": "dI_JEmoUaqSR"
      }
    },
    {
      "cell_type": "code",
      "source": [
        "print('Sun rises in the east but Earth is flat'.replace(\"earth\", \"earth is not\"))"
      ],
      "metadata": {
        "colab": {
          "base_uri": "https://localhost:8080/"
        },
        "id": "neaJhLu1ZjUN",
        "outputId": "6c6702f9-62d7-4639-924e-4ef8cd49dafa"
      },
      "execution_count": 41,
      "outputs": [
        {
          "output_type": "stream",
          "name": "stdout",
          "text": [
            "Sun rises in the east but Earth is flat\n"
          ]
        }
      ]
    },
    {
      "cell_type": "markdown",
      "source": [
        "Since Python is case-sensitive above logic did not work. Now choosing exact without case-sensitive error gives desired result"
      ],
      "metadata": {
        "id": "UNkgmbSoazC2"
      }
    },
    {
      "cell_type": "markdown",
      "source": [],
      "metadata": {
        "id": "1L7HXNl4aABN"
      }
    },
    {
      "cell_type": "code",
      "source": [
        "print('Sun rises in the east but Earth is flat'.replace(\"Earth\", \"earth is not\"))"
      ],
      "metadata": {
        "id": "VZiqWZ0iZ5u1"
      },
      "execution_count": null,
      "outputs": []
    },
    {
      "cell_type": "markdown",
      "source": [
        "Remove all special Charecters from Symptom Text"
      ],
      "metadata": {
        "id": "DwYfydDzlKkB"
      }
    },
    {
      "cell_type": "code",
      "source": [
        "to_remov = {\"@\": \"\", \"!\": \"\", \"^\": \"\", \"#\": \"\"}\n",
        "Dataset['SYMPTOM_TEXT'] = Dataset['SYMPTOM_TEXT'].replace(to_remov)\n",
        "Dataset['SYMPTOM_TEXT']"
      ],
      "metadata": {
        "id": "nhw1XNBvlO7O"
      },
      "execution_count": null,
      "outputs": []
    },
    {
      "cell_type": "markdown",
      "source": [
        "Define a column and create data"
      ],
      "metadata": {
        "id": "4K6rD0pile5v"
      }
    },
    {
      "cell_type": "code",
      "source": [
        "def Cardiac_Events(SYMPTOM_TEXT):\n",
        "    if SYMPTOM_TEXT == 'cardiac':\n",
        "        return '1'\n",
        "    if SYMPTOM_TEXT == 'cardio':\n",
        "        return 'True'\n",
        "    if SYMPTOM_TEXT == 'heart':\n",
        "        return 'True'\n",
        "    if SYMPTOM_TEXT == 'atria':\n",
        "        return 'True'\n",
        "    else:\n",
        "        return 'False'"
      ],
      "metadata": {
        "id": "vgub5tx0liX-"
      },
      "execution_count": null,
      "outputs": []
    },
    {
      "cell_type": "code",
      "source": [
        "def Cardiac_Events(SYMPTOM_TEXT):\n",
        "    if 'cardiac' in SYMPTOM_TEXT:\n",
        "        return '1'\n",
        "    if 'cardio' in SYMPTOM_TEXT:\n",
        "        return '1'\n",
        "    if 'heart' in SYMPTOM_TEXT:\n",
        "        return '1'\n",
        "    if 'atria' in SYMPTOM_TEXT:\n",
        "        return '1'\n",
        "    else:\n",
        "        return '0'"
      ],
      "metadata": {
        "id": "bnWcHANqlpnf"
      },
      "execution_count": null,
      "outputs": []
    }
  ]
}