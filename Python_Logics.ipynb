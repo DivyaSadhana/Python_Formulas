{
  "nbformat": 4,
  "nbformat_minor": 0,
  "metadata": {
    "colab": {
      "provenance": [],
      "authorship_tag": "ABX9TyNcbyD4/mMbHGvjhazo339z",
      "include_colab_link": true
    },
    "kernelspec": {
      "name": "python3",
      "display_name": "Python 3"
    },
    "language_info": {
      "name": "python"
    }
  },
  "cells": [
    {
      "cell_type": "markdown",
      "metadata": {
        "id": "view-in-github",
        "colab_type": "text"
      },
      "source": [
        "<a href=\"https://colab.research.google.com/github/DivyaSadhana/Python_Formulas/blob/main/Python_Logics.ipynb\" target=\"_parent\"><img src=\"https://colab.research.google.com/assets/colab-badge.svg\" alt=\"Open In Colab\"/></a>"
      ]
    },
    {
      "cell_type": "markdown",
      "source": [
        "#Addition, Subtraction, Multiplication"
      ],
      "metadata": {
        "id": "8Sxv83SbjMhn"
      }
    },
    {
      "cell_type": "code",
      "source": [
        "Addition = (3+2) + (6+8)\n",
        "Subtraction = (14-6) - (4-3)\n",
        "Multiplication = (15*3) * (6+2) * (6-3)\n",
        "print(Addition)\n",
        "print(Subtraction)\n",
        "print(Multiplication)\n"
      ],
      "metadata": {
        "colab": {
          "base_uri": "https://localhost:8080/"
        },
        "id": "E3ty5_AFUvmE",
        "outputId": "e6e2f22b-ef49-46e0-b0a6-a0c24c246aa7"
      },
      "execution_count": 38,
      "outputs": [
        {
          "output_type": "stream",
          "name": "stdout",
          "text": [
            "19\n",
            "7\n",
            "1080\n"
          ]
        }
      ]
    },
    {
      "cell_type": "markdown",
      "source": [
        "Use addition to create a statement"
      ],
      "metadata": {
        "id": "nnuiNvJBnOe-"
      }
    },
    {
      "cell_type": "code",
      "source": [
        "Welcome_Note= (\"Greetings\")\n",
        "Name= (\" from India\")\n",
        "print(Welcome_Note+Name)"
      ],
      "metadata": {
        "colab": {
          "base_uri": "https://localhost:8080/"
        },
        "id": "bpE8ciECnDNo",
        "outputId": "cffbd597-4972-41bf-9747-4540ddb43a97"
      },
      "execution_count": 55,
      "outputs": [
        {
          "output_type": "stream",
          "name": "stdout",
          "text": [
            "Greetings from India\n"
          ]
        }
      ]
    },
    {
      "cell_type": "markdown",
      "source": [
        "#Division, Percentage"
      ],
      "metadata": {
        "id": "8mzCkUlLaInJ"
      }
    },
    {
      "cell_type": "code",
      "source": [
        "Division = 1042/60\n",
        "Division_2= Division/30\n",
        "Percentage = 1042%60\n",
        "Percentage_2 = Percentage%20\n",
        "print(Division)\n",
        "print(Division_2)\n",
        "print(Percentage)\n",
        "print(Percentage_2)"
      ],
      "metadata": {
        "colab": {
          "base_uri": "https://localhost:8080/"
        },
        "id": "KRwqqKHDVP5a",
        "outputId": "54abebb5-f170-4609-a339-767916b3f804"
      },
      "execution_count": 43,
      "outputs": [
        {
          "output_type": "stream",
          "name": "stdout",
          "text": [
            "17.366666666666667\n",
            "0.5788888888888889\n",
            "22\n",
            "2\n"
          ]
        }
      ]
    },
    {
      "cell_type": "markdown",
      "source": [
        "# Combine Numericals of 2 different columns"
      ],
      "metadata": {
        "id": "eWQRyVChaQ8y"
      }
    },
    {
      "cell_type": "code",
      "source": [
        "Integer = 6\n",
        "Real_Number = 0.7\n",
        "Integer+Real_Number"
      ],
      "metadata": {
        "colab": {
          "base_uri": "https://localhost:8080/"
        },
        "id": "3OnGun4XXBDo",
        "outputId": "2af11773-79b1-4856-cc7b-6f91ee27d7b6"
      },
      "execution_count": 16,
      "outputs": [
        {
          "output_type": "execute_result",
          "data": {
            "text/plain": [
              "6.7"
            ]
          },
          "metadata": {},
          "execution_count": 16
        }
      ]
    },
    {
      "cell_type": "markdown",
      "source": [
        "#Combine 'Text' in 2 different columns to create single line"
      ],
      "metadata": {
        "id": "0e2BncbYaajc"
      }
    },
    {
      "cell_type": "code",
      "source": [
        "Assumption = \" but Earth is flat.\"\n",
        "Fact = \"Sun rises in the east\"\n",
        "Fact + Assumption"
      ],
      "metadata": {
        "colab": {
          "base_uri": "https://localhost:8080/",
          "height": 35
        },
        "id": "waBx-KVYWYma",
        "outputId": "b8c2ba47-6e49-452d-974b-7163d253a742"
      },
      "execution_count": 15,
      "outputs": [
        {
          "output_type": "execute_result",
          "data": {
            "text/plain": [
              "'Sun rises in the east but Earth is flat.'"
            ],
            "application/vnd.google.colaboratory.intrinsic+json": {
              "type": "string"
            }
          },
          "metadata": {},
          "execution_count": 15
        }
      ]
    },
    {
      "cell_type": "markdown",
      "source": [
        "#In above examples **'Operators'** were used to match left hand logic with right hand logic.\n",
        "'(left side <> operator <> right side)'. Operators could be =,+,-,*,/,%   etc."
      ],
      "metadata": {
        "id": "SI0by6hMg3fl"
      }
    },
    {
      "cell_type": "markdown",
      "source": [
        "#Replace/Update single word in a given sentence."
      ],
      "metadata": {
        "id": "dI_JEmoUaqSR"
      }
    },
    {
      "cell_type": "code",
      "source": [
        "print('Sun rises in the east but Earth is flat'.replace(\"earth\", \"earth is not\"))"
      ],
      "metadata": {
        "colab": {
          "base_uri": "https://localhost:8080/"
        },
        "id": "neaJhLu1ZjUN",
        "outputId": "6c6702f9-62d7-4639-924e-4ef8cd49dafa"
      },
      "execution_count": 41,
      "outputs": [
        {
          "output_type": "stream",
          "name": "stdout",
          "text": [
            "Sun rises in the east but Earth is flat\n"
          ]
        }
      ]
    },
    {
      "cell_type": "markdown",
      "source": [
        "#Since Python is case-sensitive above logic did not work. Now choosing exact without case-sensitive error gives desired result"
      ],
      "metadata": {
        "id": "UNkgmbSoazC2"
      }
    },
    {
      "cell_type": "code",
      "source": [
        "print('Sun rises in the east but Earth is flat'.replace(\"Earth\", \"earth is not\"))"
      ],
      "metadata": {
        "id": "VZiqWZ0iZ5u1"
      },
      "execution_count": null,
      "outputs": []
    },
    {
      "cell_type": "markdown",
      "source": [
        "#Round up (nearest upper value) and Round Down(nearest lower value) an integer. Round_Up/Down are definitions used to understand logic."
      ],
      "metadata": {
        "id": "SyNHJyePd8Ks"
      }
    },
    {
      "cell_type": "code",
      "source": [
        "from math import ceil, floor\n",
        "round_up=ceil(12.5)\n",
        "print(round_up)\n",
        "round_down=floor(12.5)\n",
        "print(round_down)"
      ],
      "metadata": {
        "colab": {
          "base_uri": "https://localhost:8080/"
        },
        "id": "VkezX15QeGap",
        "outputId": "ae463cc3-68c7-496d-df38-c1f0c61883e3"
      },
      "execution_count": 47,
      "outputs": [
        {
          "output_type": "stream",
          "name": "stdout",
          "text": [
            "13\n",
            "12\n"
          ]
        }
      ]
    },
    {
      "cell_type": "markdown",
      "source": [
        "#Add Today's date and pull with string. When we pull result without using data format as string type, it would throw an error as below"
      ],
      "metadata": {
        "id": "LJhBxQLkkZWp"
      }
    },
    {
      "cell_type": "code",
      "source": [
        "from datetime import date\n",
        "date.today()\n",
        "print(\"Today's date is: \" + date.today())"
      ],
      "metadata": {
        "colab": {
          "base_uri": "https://localhost:8080/",
          "height": 210
        },
        "id": "Uoc59xdHj6fl",
        "outputId": "f709e9f1-0ed5-4e3c-da2e-4863bbda4f8c"
      },
      "execution_count": 48,
      "outputs": [
        {
          "output_type": "error",
          "ename": "TypeError",
          "evalue": "ignored",
          "traceback": [
            "\u001b[0;31m---------------------------------------------------------------------------\u001b[0m",
            "\u001b[0;31mTypeError\u001b[0m                                 Traceback (most recent call last)",
            "\u001b[0;32m<ipython-input-48-7726af157f7f>\u001b[0m in \u001b[0;36m<cell line: 3>\u001b[0;34m()\u001b[0m\n\u001b[1;32m      1\u001b[0m \u001b[0;32mfrom\u001b[0m \u001b[0mdatetime\u001b[0m \u001b[0;32mimport\u001b[0m \u001b[0mdate\u001b[0m\u001b[0;34m\u001b[0m\u001b[0;34m\u001b[0m\u001b[0m\n\u001b[1;32m      2\u001b[0m \u001b[0mdate\u001b[0m\u001b[0;34m.\u001b[0m\u001b[0mtoday\u001b[0m\u001b[0;34m(\u001b[0m\u001b[0;34m)\u001b[0m\u001b[0;34m\u001b[0m\u001b[0;34m\u001b[0m\u001b[0m\n\u001b[0;32m----> 3\u001b[0;31m \u001b[0mprint\u001b[0m\u001b[0;34m(\u001b[0m\u001b[0;34m\"Today's date is: \"\u001b[0m \u001b[0;34m+\u001b[0m \u001b[0mdate\u001b[0m\u001b[0;34m.\u001b[0m\u001b[0mtoday\u001b[0m\u001b[0;34m(\u001b[0m\u001b[0;34m)\u001b[0m\u001b[0;34m)\u001b[0m\u001b[0;34m\u001b[0m\u001b[0;34m\u001b[0m\u001b[0m\n\u001b[0m",
            "\u001b[0;31mTypeError\u001b[0m: can only concatenate str (not \"datetime.date\") to str"
          ]
        }
      ]
    },
    {
      "cell_type": "markdown",
      "source": [
        "#Adding 'str' as a string and using operator '+' would over-rule above error to get the result since we are adding text as a string before desired output"
      ],
      "metadata": {
        "id": "5BfDDUbdkrnZ"
      }
    },
    {
      "cell_type": "code",
      "source": [
        "from datetime import date\n",
        "date.today()\n",
        "print(\"Today's date is: \" + str(date.today()))"
      ],
      "metadata": {
        "colab": {
          "base_uri": "https://localhost:8080/"
        },
        "id": "FU7KuLVMkSoz",
        "outputId": "bc198211-1954-4d25-8230-a27b6040dbc0"
      },
      "execution_count": 49,
      "outputs": [
        {
          "output_type": "stream",
          "name": "stdout",
          "text": [
            "Today's date is: 2023-10-25\n"
          ]
        }
      ]
    },
    {
      "cell_type": "markdown",
      "source": [
        "Use above logic to frame a statement"
      ],
      "metadata": {
        "id": "iUAMNGbznIbm"
      }
    },
    {
      "cell_type": "code",
      "source": [
        "Name= (\" India\")\n",
        "print(\"Welcome to\"+Name)\n",
        "print(\"Welcome to\",Name)"
      ],
      "metadata": {
        "colab": {
          "base_uri": "https://localhost:8080/"
        },
        "id": "adqooOGBmt_P",
        "outputId": "335e4e46-4be1-45b6-891f-865e80ac823d"
      },
      "execution_count": 5,
      "outputs": [
        {
          "output_type": "stream",
          "name": "stdout",
          "text": [
            "Welcome to India\n",
            "Welcome to  India\n"
          ]
        }
      ]
    },
    {
      "cell_type": "markdown",
      "source": [
        "#Add new data to existent data through Append() logic. Then Count the number of variables using len logic"
      ],
      "metadata": {
        "id": "8sDhG781EpNb"
      }
    },
    {
      "cell_type": "code",
      "source": [
        "Planets = [\"Mercury\", \"Venus\", \"Earth\", \"Mars\", \"Jupiter\", \"Saturn\", \"Uranus\", \"Neptune\"]\n",
        "Planets.append('Pluto')\n",
        "number_of_planets = len(Planets)\n",
        "print(\"There are actually\", number_of_planets, \"planets in the solar system.\")"
      ],
      "metadata": {
        "colab": {
          "base_uri": "https://localhost:8080/"
        },
        "id": "DnL0Fct-ExNY",
        "outputId": "096dc7c2-27a5-4170-bb70-2835816aa579"
      },
      "execution_count": 3,
      "outputs": [
        {
          "output_type": "stream",
          "name": "stdout",
          "text": [
            "There are actually 9 planets in the solar system.\n"
          ]
        }
      ]
    },
    {
      "cell_type": "markdown",
      "source": [
        "# Locate specific word in a list"
      ],
      "metadata": {
        "id": "sOX2H8qWGqid"
      }
    },
    {
      "cell_type": "code",
      "source": [
        "Planets = [\"Mercury\", \"Venus\", \"Earth\", \"Mars\", \"Jupiter\", \"Saturn\", \"Uranus\", \"Neptune\", \"Pluto\"]\n",
        "print(\"The first planet is\", Planets[0])\n",
        "print(\"The second planet is\", Planets[1])\n",
        "print(\"The last planet is\", Planets[-1])\n",
        "print(\"The penultimate planet is\", Planets[-2])"
      ],
      "metadata": {
        "colab": {
          "base_uri": "https://localhost:8080/"
        },
        "id": "aWjzg6mvHFVk",
        "outputId": "4d1a88ff-fb84-4b78-e403-34b6db42e54f"
      },
      "execution_count": 6,
      "outputs": [
        {
          "output_type": "stream",
          "name": "stdout",
          "text": [
            "The first planet is Mercury\n",
            "The second planet is Venus\n",
            "The last planet is Pluto\n",
            "The penultimate planet is Neptune\n"
          ]
        }
      ]
    },
    {
      "cell_type": "markdown",
      "source": [
        "#Find a specific word/value in the list through 'Index' order"
      ],
      "metadata": {
        "id": "2_OTEnE8MjGz"
      }
    },
    {
      "cell_type": "code",
      "source": [
        "Planets = [\"Mercury\", \"Venus\", \"Earth\", \"Mars\", \"Jupiter\", \"Saturn\", \"Uranus\", \"Neptune\"]\n",
        "jupiter_index = Planets.index(\"Jupiter\")\n",
        "print(\"Jupiter is the\", jupiter_index + 1, \"planet from the sun\")"
      ],
      "metadata": {
        "colab": {
          "base_uri": "https://localhost:8080/"
        },
        "id": "I-iBdq5qMmze",
        "outputId": "e61a6e9f-9638-4d78-a45a-bacc9f7c340a"
      },
      "execution_count": 7,
      "outputs": [
        {
          "output_type": "stream",
          "name": "stdout",
          "text": [
            "Jupiter is the 5 planet from the sun\n"
          ]
        }
      ]
    },
    {
      "cell_type": "markdown",
      "source": [
        "Because indexing starts with 0, you need to add 1 to display the proper number."
      ],
      "metadata": {
        "id": "5KoepN-CPa6_"
      }
    },
    {
      "cell_type": "code",
      "source": [
        "Planets = [\"Mercury\", \"Venus\", \"Earth\", \"Mars\", \"Jupiter\", \"Saturn\", \"Uranus\", \"Neptune\"]\n",
        "jupiter_index = Planets.index(\"Jupiter\")\n",
        "print(jupiter_index+1)"
      ],
      "metadata": {
        "colab": {
          "base_uri": "https://localhost:8080/"
        },
        "id": "JxFc_DqxP4LO",
        "outputId": "f6936d97-0240-4ff7-f517-d75eacb8adc5"
      },
      "execution_count": 13,
      "outputs": [
        {
          "output_type": "stream",
          "name": "stdout",
          "text": [
            "5\n"
          ]
        }
      ]
    },
    {
      "cell_type": "markdown",
      "source": [
        "#Difference between 'Find' & 'Index' logics"
      ],
      "metadata": {
        "id": "Yc8Xiun-VPb7"
      }
    },
    {
      "cell_type": "code",
      "source": [
        "x = Planets.find('Jupiter')\n",
        "print(x)\n",
        "#The main difference is that Python find() produces -1 as output if it is unable to find the substring, whereas index() throws a ValueError exception.\n",
        "\n",
        "5"
      ],
      "metadata": {
        "id": "3NFSC2neZo39"
      },
      "execution_count": null,
      "outputs": []
    },
    {
      "cell_type": "markdown",
      "source": [
        "#Store Numbers in the list by performing aggrigate, min, max calculations within output statements to be generated."
      ],
      "metadata": {
        "id": "digEIamhRiei"
      }
    },
    {
      "cell_type": "code",
      "source": [
        "Gravity_on_Planets = [0.378, 0.907, 1, 0.377, 2.36, 0.916, 0.889, 1.12]\n",
        "#In this list, gravity_on_planets[0] is the gravity on Mercury (0.378 G), gravity_on_planets[1] is the gravity on Venus (0.907 G), and so on.\n",
        "\n",
        "Bus_Weight = 124054 # in Newtons, on Earth\n",
        "print(\"On Earth, a double-decker bus weighs\", Bus_Weight, \"N\")\n",
        "print(\"On Mercury, a double-decker bus weighs\", Bus_Weight * Gravity_on_Planets[0], \"N\")\n",
        "print(\"On Venus, a double-decker bus weighs\", Bus_Weight * Gravity_on_Planets[1], \"N\")\n",
        "print(\"On Earth, a double-decker bus weighs\", Bus_Weight, \"N\")\n",
        "print(\"The lightest a bus would be in the solar system is\", Bus_Weight * min(Gravity_on_Planets), \"N\")\n",
        "print(\"The heaviest a bus would be in the solar system is\", Bus_Weight * max(Gravity_on_Planets), \"N\")"
      ],
      "metadata": {
        "colab": {
          "base_uri": "https://localhost:8080/"
        },
        "id": "upJnrVGNRpGp",
        "outputId": "ff998f2c-c47d-4e78-eb62-fe85e9ce6d5c"
      },
      "execution_count": 16,
      "outputs": [
        {
          "output_type": "stream",
          "name": "stdout",
          "text": [
            "On Earth, a double-decker bus weighs 124054 N\n",
            "On Mercury, a double-decker bus weighs 46892.412000000004 N\n",
            "On Venus, a double-decker bus weighs 112516.978 N\n",
            "On Earth, a double-decker bus weighs 124054 N\n",
            "The lightest a bus would be in the solar system is 46768.358 N\n",
            "The heaviest a bus would be in the solar system is 292767.44 N\n"
          ]
        }
      ]
    },
    {
      "cell_type": "markdown",
      "source": [
        "#Slice the list to create a new list without altering original data"
      ],
      "metadata": {
        "id": "Lc7wM1ZNTr3Z"
      }
    },
    {
      "cell_type": "code",
      "source": [
        "planets = [\"Mercury\", \"Venus\", \"Earth\", \"Mars\", \"Jupiter\", \"Saturn\", \"Uranus\", \"Neptune\"]\n",
        "planets_before_earth = planets[0:2]\n",
        "print(planets_before_earth)\n",
        "\n",
        "planets_after_earth = planets[3:8]\n",
        "print(planets_after_earth)\n",
        "\n",
        "planets_after_earth = planets[3:]\n",
        "print(planets_after_earth)"
      ],
      "metadata": {
        "colab": {
          "base_uri": "https://localhost:8080/"
        },
        "id": "1YGC5DWAT06-",
        "outputId": "f1f2d7cd-0235-429b-d5b4-e246293b916b"
      },
      "execution_count": 17,
      "outputs": [
        {
          "output_type": "stream",
          "name": "stdout",
          "text": [
            "['Mercury', 'Venus']\n",
            "['Mars', 'Jupiter', 'Saturn', 'Uranus', 'Neptune']\n",
            "['Mars', 'Jupiter', 'Saturn', 'Uranus', 'Neptune']\n"
          ]
        }
      ]
    },
    {
      "cell_type": "markdown",
      "source": [
        "#Sort out the list based on alphabetical or numerical order. This features modifies the original data."
      ],
      "metadata": {
        "id": "RZgFo1uyUFHb"
      }
    },
    {
      "cell_type": "code",
      "source": [
        "amalthea_group = [\"Metis\", \"Adrastea\", \"Amalthea\", \"Thebe\"]\n",
        "galilean_moons = [\"Io\", \"Europa\", \"Ganymede\", \"Callisto\"]\n",
        "regular_satellite_moons = amalthea_group + galilean_moons\n",
        "\n",
        "#Alphabetical order in ascending manner\n",
        "regular_satellite_moons.sort()\n",
        "print(\"The regular satellite moons of Jupiter are\", regular_satellite_moons)\n",
        "\n",
        "#Alphabetical order in descending manner\n",
        "regular_satellite_moons.sort(reverse=True)\n",
        "print(\"The regular satellite moons of Jupiter are\", regular_satellite_moons)"
      ],
      "metadata": {
        "colab": {
          "base_uri": "https://localhost:8080/"
        },
        "id": "wLXeeLKoUOay",
        "outputId": "346f180b-f10e-4be2-8cd4-a3426fd63e4b"
      },
      "execution_count": 18,
      "outputs": [
        {
          "output_type": "stream",
          "name": "stdout",
          "text": [
            "The regular satellite moons of Jupiter are ['Adrastea', 'Amalthea', 'Callisto', 'Europa', 'Ganymede', 'Io', 'Metis', 'Thebe']\n",
            "The regular satellite moons of Jupiter are ['Thebe', 'Metis', 'Io', 'Ganymede', 'Europa', 'Callisto', 'Amalthea', 'Adrastea']\n"
          ]
        }
      ]
    },
    {
      "cell_type": "markdown",
      "source": [
        "#For Loop"
      ],
      "metadata": {
        "id": "X1JzH-hOcMTo"
      }
    },
    {
      "cell_type": "code",
      "source": [
        "planet = {\n",
        "    'name': 'Mars',\n",
        "    'moons': 2\n",
        "}\n",
        "print(f'{planet[\"name\"]} has {planet[\"moons\"]} moon(s)')\n",
        "\n",
        "#Add circumference to above list\n",
        "planet['circumference (km)'] = {\n",
        "    'polar': 6752,\n",
        "    'equatorial': 6792\n",
        "}\n",
        "print(f'{planet[\"name\"]} has a polar circumference of {planet[\"circumference (km)\"][\"polar\"]}')"
      ],
      "metadata": {
        "colab": {
          "base_uri": "https://localhost:8080/"
        },
        "id": "_ZY7ppMZcPBx",
        "outputId": "866ced0a-8b51-4008-a7a1-214d5fb938a9"
      },
      "execution_count": 32,
      "outputs": [
        {
          "output_type": "stream",
          "name": "stdout",
          "text": [
            "Mars has 2 moon(s)\n",
            "Mars has a polar circumference of 6752\n"
          ]
        }
      ]
    },
    {
      "cell_type": "markdown",
      "source": [
        "Add keys (parameters) to the data"
      ],
      "metadata": {
        "id": "bHtQLyVtdS-s"
      }
    },
    {
      "cell_type": "code",
      "source": [
        "rainfall = {\n",
        "    'october': 3.5,\n",
        "    'november': 4.2,\n",
        "    'december': 2.1\n",
        "}\n",
        "\n",
        "for key in rainfall.keys():\n",
        "    print(f'{key}: {rainfall[key]}cm')\n",
        "\n"
      ],
      "metadata": {
        "colab": {
          "base_uri": "https://localhost:8080/"
        },
        "id": "BtpO4Yn2c1ea",
        "outputId": "c1c63613-9099-48d4-da48-e861b3449b54"
      },
      "execution_count": 34,
      "outputs": [
        {
          "output_type": "stream",
          "name": "stdout",
          "text": [
            "october: 3.5cm\n",
            "november: 4.2cm\n",
            "december: 2.1cm\n"
          ]
        }
      ]
    },
    {
      "cell_type": "code",
      "source": [
        "planet_moons = {\n",
        "    'mercury': 0,\n",
        "    'venus': 0,\n",
        "    'earth': 1,\n",
        "    'mars': 2,\n",
        "    'jupiter': 79,\n",
        "    'saturn': 82,\n",
        "    'uranus': 27,\n",
        "    'neptune': 14,\n",
        "    'pluto': 5,\n",
        "    'haumea': 2,\n",
        "    'makemake': 1,\n",
        "    'eris': 1\n",
        "}\n",
        "\n",
        "moons = planet_moons.values()\n",
        "total_planets = len(planet_moons.keys())\n",
        "\n",
        "total_moons = 0\n",
        "for moon in moons:\n",
        "    total_moons = total_moons + moon\n",
        "\n",
        "average = total_moons / total_planets\n",
        "\n",
        "print(f'Each planet has an average of {average} moons')"
      ],
      "metadata": {
        "colab": {
          "base_uri": "https://localhost:8080/"
        },
        "id": "wQLLaMLZdjcx",
        "outputId": "20917b05-5be5-4a2e-b742-7b908dc040a0"
      },
      "execution_count": 41,
      "outputs": [
        {
          "output_type": "stream",
          "name": "stdout",
          "text": [
            "Each planet has an average of 17.833333333333332 moons\n"
          ]
        }
      ]
    },
    {
      "cell_type": "markdown",
      "source": [
        "#Define a column"
      ],
      "metadata": {
        "id": "QqJrMEldlmyo"
      }
    },
    {
      "cell_type": "code",
      "source": [
        "def rocket_parts():\n",
        "    return \"payload, propellant, structure\"\n",
        "output = rocket_parts()\n",
        "output"
      ],
      "metadata": {
        "colab": {
          "base_uri": "https://localhost:8080/",
          "height": 35
        },
        "id": "Un_3sKcSg88N",
        "outputId": "20b6e7a8-639f-476b-ba38-f2923ac5bc6f"
      },
      "execution_count": 44,
      "outputs": [
        {
          "output_type": "execute_result",
          "data": {
            "text/plain": [
              "'payload, propellant, structure'"
            ],
            "application/vnd.google.colaboratory.intrinsic+json": {
              "type": "string"
            }
          },
          "metadata": {},
          "execution_count": 44
        }
      ]
    },
    {
      "cell_type": "code",
      "source": [
        "def distance_from_earth(destination):\n",
        "    if destination == \"Moon\":\n",
        "        return \"238,855\"\n",
        "    else:\n",
        "        return \"Unable to compute to that destination\"\n",
        "\n",
        "output = distance_from_earth(\"Moon\")\n",
        "output"
      ],
      "metadata": {
        "colab": {
          "base_uri": "https://localhost:8080/",
          "height": 35
        },
        "id": "wGi1GpVQhV2s",
        "outputId": "38776a27-7560-446d-8d9d-2516cb23ce40"
      },
      "execution_count": 48,
      "outputs": [
        {
          "output_type": "execute_result",
          "data": {
            "text/plain": [
              "'238,855'"
            ],
            "application/vnd.google.colaboratory.intrinsic+json": {
              "type": "string"
            }
          },
          "metadata": {},
          "execution_count": 48
        }
      ]
    },
    {
      "cell_type": "code",
      "source": [
        "def days_to_complete(distance, speed):\n",
        "    hours = distance/speed\n",
        "    return hours/24\n",
        "output1 = days_to_complete(238855, 75)\n",
        "output1"
      ],
      "metadata": {
        "colab": {
          "base_uri": "https://localhost:8080/"
        },
        "id": "ed7qseqOh3CI",
        "outputId": "e2199461-d8ad-4562-a79b-e7e6eb526657"
      },
      "execution_count": 65,
      "outputs": [
        {
          "output_type": "execute_result",
          "data": {
            "text/plain": [
              "132.69722222222222"
            ]
          },
          "metadata": {},
          "execution_count": 65
        }
      ]
    },
    {
      "cell_type": "code",
      "source": [
        "total_days = days_to_complete(238855, 75)\n",
        "total_days\n",
        "print(round(total_days))"
      ],
      "metadata": {
        "colab": {
          "base_uri": "https://localhost:8080/"
        },
        "id": "AI6KNdBaib_2",
        "outputId": "f4531bbd-578d-432a-eefe-fa0304e2994b"
      },
      "execution_count": 54,
      "outputs": [
        {
          "output_type": "stream",
          "name": "stdout",
          "text": [
            "133\n"
          ]
        }
      ]
    },
    {
      "cell_type": "code",
      "source": [
        "\n",
        "def sequence_time(*args):\n",
        "    total_minutes = sum(args)\n",
        "    if total_minutes < 60:\n",
        "        return f\"Total time to launch is {total_minutes} minutes\"\n",
        "    else:\n",
        "        return f\"Total time to launch is {total_minutes/60} hours\"\n",
        "\n",
        "sequence_time (4, 14, 18)\n",
        ""
      ],
      "metadata": {
        "colab": {
          "base_uri": "https://localhost:8080/",
          "height": 35
        },
        "id": "CJ2nCgGCi3U2",
        "outputId": "b61b76aa-c66f-447b-d550-310cf4613c1c"
      },
      "execution_count": 64,
      "outputs": [
        {
          "output_type": "execute_result",
          "data": {
            "text/plain": [
              "'Total time to launch is 36 minutes'"
            ],
            "application/vnd.google.colaboratory.intrinsic+json": {
              "type": "string"
            }
          },
          "metadata": {},
          "execution_count": 64
        }
      ]
    },
    {
      "cell_type": "markdown",
      "source": [
        "#Remove all special Charecters from Symptom Text"
      ],
      "metadata": {
        "id": "DwYfydDzlKkB"
      }
    },
    {
      "cell_type": "code",
      "source": [
        "Fact = ['Sun @ rises in the east']\n",
        "to_remov = {\"@\": \"\", \"!\": \"\", \"^\": \"\", \"#\": \"\"}\n",
        "Facts = Fact.replace(to_remov)\n",
        "Facts"
      ],
      "metadata": {
        "colab": {
          "base_uri": "https://localhost:8080/",
          "height": 227
        },
        "id": "nhw1XNBvlO7O",
        "outputId": "016c2942-67c9-4c88-81f5-28e959e1e537"
      },
      "execution_count": 76,
      "outputs": [
        {
          "output_type": "error",
          "ename": "AttributeError",
          "evalue": "ignored",
          "traceback": [
            "\u001b[0;31m---------------------------------------------------------------------------\u001b[0m",
            "\u001b[0;31mAttributeError\u001b[0m                            Traceback (most recent call last)",
            "\u001b[0;32m<ipython-input-76-0952f554f9b1>\u001b[0m in \u001b[0;36m<cell line: 3>\u001b[0;34m()\u001b[0m\n\u001b[1;32m      1\u001b[0m \u001b[0mFact\u001b[0m \u001b[0;34m=\u001b[0m \u001b[0;34m[\u001b[0m\u001b[0;34m'Sun @ rises in the east'\u001b[0m\u001b[0;34m]\u001b[0m\u001b[0;34m\u001b[0m\u001b[0;34m\u001b[0m\u001b[0m\n\u001b[1;32m      2\u001b[0m \u001b[0mto_remov\u001b[0m \u001b[0;34m=\u001b[0m \u001b[0;34m{\u001b[0m\u001b[0;34m\"@\"\u001b[0m\u001b[0;34m:\u001b[0m \u001b[0;34m\"\"\u001b[0m\u001b[0;34m,\u001b[0m \u001b[0;34m\"!\"\u001b[0m\u001b[0;34m:\u001b[0m \u001b[0;34m\"\"\u001b[0m\u001b[0;34m,\u001b[0m \u001b[0;34m\"^\"\u001b[0m\u001b[0;34m:\u001b[0m \u001b[0;34m\"\"\u001b[0m\u001b[0;34m,\u001b[0m \u001b[0;34m\"#\"\u001b[0m\u001b[0;34m:\u001b[0m \u001b[0;34m\"\"\u001b[0m\u001b[0;34m}\u001b[0m\u001b[0;34m\u001b[0m\u001b[0;34m\u001b[0m\u001b[0m\n\u001b[0;32m----> 3\u001b[0;31m \u001b[0mFacts\u001b[0m \u001b[0;34m=\u001b[0m \u001b[0mFact\u001b[0m\u001b[0;34m.\u001b[0m\u001b[0mreplace\u001b[0m\u001b[0;34m(\u001b[0m\u001b[0mto_remov\u001b[0m\u001b[0;34m)\u001b[0m\u001b[0;34m\u001b[0m\u001b[0;34m\u001b[0m\u001b[0m\n\u001b[0m\u001b[1;32m      4\u001b[0m \u001b[0mFacts\u001b[0m\u001b[0;34m\u001b[0m\u001b[0;34m\u001b[0m\u001b[0m\n",
            "\u001b[0;31mAttributeError\u001b[0m: 'list' object has no attribute 'replace'"
          ]
        }
      ]
    },
    {
      "cell_type": "markdown",
      "source": [
        "Define a column and create data"
      ],
      "metadata": {
        "id": "4K6rD0pile5v"
      }
    },
    {
      "cell_type": "code",
      "source": [
        "def Cardiac_Events(SYMPTOM_TEXT):\n",
        "    if SYMPTOM_TEXT == 'cardiac':\n",
        "        return '1'\n",
        "    if SYMPTOM_TEXT == 'cardio':\n",
        "        return '1'\n",
        "    if SYMPTOM_TEXT == 'heart':\n",
        "        return '1'\n",
        "    if SYMPTOM_TEXT == 'atria':\n",
        "        return '1'\n",
        "    else:\n",
        "        return '0'\n",
        "\n",
        "Cardiac_Events = ('SYMPTOM_TEXT')\n",
        "Cardiac_Events"
      ],
      "metadata": {
        "colab": {
          "base_uri": "https://localhost:8080/",
          "height": 35
        },
        "id": "vgub5tx0liX-",
        "outputId": "d884d71e-5289-405a-9b24-02e0f8a688e3"
      },
      "execution_count": 72,
      "outputs": [
        {
          "output_type": "execute_result",
          "data": {
            "text/plain": [
              "'SYMPTOM_TEXT'"
            ],
            "application/vnd.google.colaboratory.intrinsic+json": {
              "type": "string"
            }
          },
          "metadata": {},
          "execution_count": 72
        }
      ]
    },
    {
      "cell_type": "code",
      "source": [
        "def Cardiac_Events(SYMPTOM_TEXT):\n",
        "    if 'cardiac' in SYMPTOM_TEXT:\n",
        "        return '1'\n",
        "    if 'cardio' in SYMPTOM_TEXT:\n",
        "        return '1'\n",
        "    if 'heart' in SYMPTOM_TEXT:\n",
        "        return '1'\n",
        "    if 'atria' in SYMPTOM_TEXT:\n",
        "        return '1'\n",
        "    else:\n",
        "        return '0'\n",
        "Cardiac_Events = ('SYMPTOM_TEXT')\n",
        "Cardiac_Events"
      ],
      "metadata": {
        "colab": {
          "base_uri": "https://localhost:8080/",
          "height": 35
        },
        "id": "bnWcHANqlpnf",
        "outputId": "ada8bf5b-57c7-4729-c738-2e197dff63d0"
      },
      "execution_count": 73,
      "outputs": [
        {
          "output_type": "execute_result",
          "data": {
            "text/plain": [
              "'SYMPTOM_TEXT'"
            ],
            "application/vnd.google.colaboratory.intrinsic+json": {
              "type": "string"
            }
          },
          "metadata": {},
          "execution_count": 73
        }
      ]
    }
  ]
}